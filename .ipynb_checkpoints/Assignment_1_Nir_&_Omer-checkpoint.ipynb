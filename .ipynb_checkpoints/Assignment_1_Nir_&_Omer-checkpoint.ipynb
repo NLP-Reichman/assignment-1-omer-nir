{
 "cells": [
  {
   "cell_type": "code",
   "execution_count": 1,
   "metadata": {
    "id": "za-DgcYB_IQx"
   },
   "outputs": [],
   "source": [
    "# !git clone https://github.com/NLP-Reichman/2025_assignment_1.git\n",
    "# !mv 2025_assignment_1/data data\n",
    "# !rm 2025_assignment_1/ -r"
   ]
  },
  {
   "cell_type": "markdown",
   "metadata": {
    "id": "FECp14-d_F2e"
   },
   "source": [
    "# Set up"
   ]
  },
  {
   "cell_type": "markdown",
   "metadata": {
    "id": "0i2bOXTB8Dvc"
   },
   "source": [
    "# Introduction\n",
    "In this assignment you will be creating tools for learning and testing language models. The corpora that you will be working with are lists of tweets in 8 different languages that use the Latin script. The data is provided either formatted as CSV or as JSON, for your convenience. The end goal is to write a set of tools that can detect the language of a given tweet.\n",
    "The relevant files are under the data folder:\n",
    "\n",
    "- en.csv (or the equivalent JSON file)\n",
    "- es.csv (or the equivalent JSON file)\n",
    "- fr.csv (or the equivalent JSON file)\n",
    "- in.csv (or the equivalent JSON file)\n",
    "- it.csv (or the equivalent JSON file)\n",
    "- nl.csv (or the equivalent JSON file)\n",
    "- pt.csv (or the equivalent JSON file)\n",
    "- tl.csv (or the equivalent JSON file)"
   ]
  },
  {
   "cell_type": "code",
   "execution_count": 2,
   "metadata": {
    "id": "1u1qR7iaq_GU"
   },
   "outputs": [],
   "source": [
    "# !pip install google.colab\n",
    "import os\n",
    "import json\n",
    "# from google.colab import files\n",
    "import pandas as pd\n",
    "import numpy as np\n",
    "from itertools import product"
   ]
  },
  {
   "cell_type": "markdown",
   "metadata": {
    "id": "IHN0tWTurwkN"
   },
   "source": [
    "# Implementation"
   ]
  },
  {
   "cell_type": "markdown",
   "metadata": {
    "id": "i56aKA0K8adr"
   },
   "source": [
    "## Part 1\n",
    "Implement the function *preprocess* that iterates over all the data files and creates a single vocabulary, containing all the tokens in the data. Our token definition is a single UTF-8 encoded character. So, the vocabulary list is a simple Python list of all the characters that you see at least once in the data. The vocabulary should include the `<start>` and  `<end>` tokens.\n",
    "\n",
    "Note - do NOT lowecase the sentences."
   ]
  },
  {
   "cell_type": "code",
   "execution_count": 3,
   "metadata": {
    "id": "ws_5u7vRrg0o"
   },
   "outputs": [],
   "source": [
    "\n",
    "def extract_tokens(obj , vocab: set[str]) -> None:\n",
    "    if isinstance(obj, str):\n",
    "        vocab.update(obj)  # works because obj is a string and update takes an iterable of characters\n",
    "    elif isinstance(obj, dict):\n",
    "        for value in obj.values():\n",
    "            extract_tokens(value, vocab)\n",
    "    elif isinstance(obj, list):\n",
    "        for item in obj:\n",
    "            extract_tokens(item, vocab)\n",
    "    # Ignore other types\n",
    "\n",
    "def preprocess() -> list[str]:\n",
    "    '''\n",
    "    Return a list of characters, representing the shared vocabulary of all languages\n",
    "    '''\n",
    "    vocab = set()\n",
    "    path = \"data\"\n",
    "    for filename in os.listdir(path):\n",
    "        file_path = os.path.join(path, filename)\n",
    "        if filename.endswith(\".json\"):\n",
    "            with open(file_path, encoding=\"utf-8\") as f:\n",
    "                data = json.load(f)\n",
    "\n",
    "                extract_tokens(data, vocab)\n",
    "    vocab.update([\"<start>\", \"<end>\"])\n",
    "    return list(vocab)\n",
    "\n",
    "def preprocess_single_language(lang: str) -> list[str]:\n",
    "    '''\n",
    "    Return a list of characters from a single language JSON file\n",
    "    '''\n",
    "    file_path = f\"data/{lang}.json\"\n",
    "    vocab = set()\n",
    "    with open(file_path, encoding=\"utf-8\") as f:\n",
    "        data = json.load(f)\n",
    "        extract_tokens(data, vocab)\n",
    "    vocab.update([\"<start>\", \"<end>\"])\n",
    "    return list(vocab)\n"
   ]
  },
  {
   "cell_type": "code",
   "execution_count": 4,
   "metadata": {
    "colab": {
     "base_uri": "https://localhost:8080/"
    },
    "id": "-1jcvg0jtMjF",
    "outputId": "8d2f260d-98d7-4f52-8d7f-aafc2767cc5f"
   },
   "outputs": [
    {
     "name": "stdout",
     "output_type": "stream",
     "text": [
      "vocab length: 1804\n",
      "Some characters in the vocab: ['킹', '３', '🍦', '🥒', '💭', '🔃', 'か', '🤘', '🚴', '⠀']\n"
     ]
    }
   ],
   "source": [
    "vocab = preprocess()\n",
    "print(f\"vocab length: {len(vocab)}\")\n",
    "print(f\"Some characters in the vocab: {vocab[:10]}\")"
   ]
  },
  {
   "cell_type": "markdown",
   "metadata": {
    "id": "WkXuHxGIkWz4"
   },
   "source": []
  },
  {
   "cell_type": "markdown",
   "metadata": {
    "id": "tpjtwHW08jyH"
   },
   "source": [
    "## Part 2\n",
    "Implement the function *build_lm* that generates a language model from a textual corpus. The function should return a dictionary (representing a model) where the keys are all the relevant *n*-1 sequences, and the values are dictionaries with the *n*_th tokens and their corresponding probabilities to occur. To ensure consistent probabilities calculation, please add n-1 `<start>` tokens to the beginning of a tweet and one `<end>` token at the end. For example, for a trigram model (tokens are characters), it should look something like:\n",
    "\n",
    "{ \"ab\":{\"c\":0.5, \"b\":0.25, \"d\":0.25}, \"ca\":{\"a\":0.2, \"b\":0.7, \"d\":0.1} }\n",
    "\n",
    "which means for example that after the sequence \"ab\", there is a 0.5 chance that \"c\" will appear, 0.25 for \"b\" to appear and 0.25 for \"d\" to appear.\n",
    "\n",
    "Note - You should think how to add the add_one smoothing information to the dictionary and implement it.\n",
    "\n",
    "Please add the `<unk>` token with $p(<unk>)=1|V|$ to the LM if buiulding a smoothed LM."
   ]
  },
  {
   "cell_type": "code",
   "execution_count": 5,
   "metadata": {
    "id": "uySEXdEUrkq_"
   },
   "outputs": [],
   "source": [
    "from itertools import permutations\n",
    "from collections import Counter , defaultdict\n",
    "\n",
    "def build_lm(lang: str, n: int, smoothed: bool = False) -> dict[str, dict[str, float]]:\n",
    "    '''\n",
    "  Return a language model for the given lang and n_gram (n)\n",
    "  :param lang: the language of the model\n",
    "  :param n: the n_gram value\n",
    "  :param smoothed: boolean indicating whether to apply smoothing\n",
    "  :return: a dictionary where the keys are n_grams and the values are dictionaries\n",
    "    '''\n",
    "    LM = defaultdict(lambda: defaultdict(float))\n",
    "    filepath = f\"data/{lang}.json\"\n",
    "    vocab = preprocess_single_language(lang)  # returns List[str]\n",
    "    vocab = set(vocab)  # for fast lookup\n",
    "    vocab.add(\"<unk>\")  # ensure it's in vocab if smoothing\n",
    "\n",
    "    with open(filepath, encoding=\"utf-8\") as f:\n",
    "        data = json.load(f)\n",
    "        text_dict = data[\"tweet_text\"]\n",
    "\n",
    "    for tweet in text_dict.values():\n",
    "        padded = [\"<start>\"] * (n - 1) + list(tweet) + [\"<end>\"]\n",
    "        for i in range(len(padded) - n + 1):\n",
    "            ngram = padded[i:i+n]\n",
    "            prefix = ''.join(ngram[:-1])\n",
    "            next_char = ngram[-1]\n",
    "            LM[prefix][next_char] += 1\n",
    "    final_lm: dict[str, dict[str, float]] = {}\n",
    "    \n",
    "    for prefix in LM:\n",
    "        if smoothed:\n",
    "            # Apply add-one smoothing for all vocab (including <unk>)\n",
    "            for char in vocab:\n",
    "                LM[prefix][char] += 1\n",
    "\n",
    "        total = sum(LM[prefix].values())\n",
    "        final_lm[prefix] = {\n",
    "            char: LM[prefix][char] / total\n",
    "            for char in LM[prefix]\n",
    "        }\n",
    "\n",
    "        # In case some prefix is missing <unk> after smoothing, ensure it's added\n",
    "        if smoothed:\n",
    "            final_lm[\"<unk>\"] = 1 / total\n",
    "\n",
    "    return final_lm\n",
    "\n",
    "\n",
    "  ########################################\n",
    "  # return LM"
   ]
  },
  {
   "cell_type": "code",
   "execution_count": 6,
   "metadata": {
    "colab": {
     "base_uri": "https://localhost:8080/"
    },
    "id": "d9mqbEhBttmm",
    "outputId": "a64c2299-59a8-46b7-ead2-6897a65912ff"
   },
   "outputs": [
    {
     "name": "stdout",
     "output_type": "stream",
     "text": [
      "english_2_gram_length: 748\n",
      "english_3_gram_length: 8239\n",
      "french_3_gram_length: 8286\n",
      "spanish_3_gram_length: 8469\n",
      "English Language Model with 3-gram is of length: 8238\n",
      "English Language Model with 3-gram smoothed is of length: 8239\n"
     ]
    }
   ],
   "source": [
    "LM = build_lm(\"en\", 3, False)\n",
    "\n",
    "LM2 = build_lm(\"en\", 3, True)\n",
    "\n",
    "print(\"english_2_gram_length:\", len(build_lm('en', 2, True)))\n",
    "print(\"english_3_gram_length:\", len(build_lm('en', 3, True)))\n",
    "print(\"french_3_gram_length:\", len(build_lm('fr', 3, True)))\n",
    "print(\"spanish_3_gram_length:\", len(build_lm('es', 3, True)))\n",
    "\n",
    "\n",
    "print(f\"English Language Model with 3-gram is of length: {len(LM)}\")\n",
    "\n",
    "print(f\"English Language Model with 3-gram smoothed is of length: {len(LM2)}\")\n"
   ]
  },
  {
   "cell_type": "markdown",
   "metadata": {
    "id": "xwZnk7Ke8rW5"
   },
   "source": [
    "## Part 3\n",
    "Implement the function *eval* that returns the perplexity of a model (dictionary) running over the data file of the given target language.\n",
    "\n",
    "The `<unk>` should be used for unknown contexts when calculating the perplexities."
   ]
  },
  {
   "cell_type": "code",
   "execution_count": 7,
   "metadata": {
    "id": "y9w8u411uJeq"
   },
   "outputs": [],
   "source": [
    "import math\n",
    "\n",
    "def perplexity(model: dict, text: list, n: int) -> float:\n",
    "    '''\n",
    "    Calculates the perplexity of the given string using the given language model.\n",
    "    :param model: The language model\n",
    "    :param text: The tokenized text to calculate the perplexity for\n",
    "    :param n: The n-gram of the model\n",
    "    :return: The perplexity\n",
    "    '''\n",
    "    # padded = [\"<start>\"] * (n - 1) + text + [\"<end>\"]\n",
    "    padded = text\n",
    "    log_prob_sum = 0.0\n",
    "    token_count = 0\n",
    "\n",
    "    for i in range(n-1, len(padded)):\n",
    "        prefix = ''.join(padded[i-(n-1):i])\n",
    "        next_token = padded[i]\n",
    "\n",
    "        if prefix in model:\n",
    "            if next_token in model[prefix]:\n",
    "                prob = model[prefix][next_token]\n",
    "            else:\n",
    "                prob = model[prefix].get(\"<unk>\", 1e-8)\n",
    "        else:\n",
    "            prob = model.get(\"<unk>\", 1e-8)\n",
    "\n",
    "        log_prob_sum += math.log(prob)\n",
    "        token_count += 1\n",
    "\n",
    "    avg_log_prob = log_prob_sum / token_count\n",
    "    pp = math.exp(-avg_log_prob)\n",
    "    \n",
    "    return pp\n",
    "\n"
   ]
  },
  {
   "cell_type": "code",
   "execution_count": 8,
   "metadata": {
    "id": "ef-EglxXrmk2"
   },
   "outputs": [],
   "source": [
    "def eval(model: dict, target_lang: str, n: int) -> float:\n",
    "  '''\n",
    "  Return the perplexity value calculated over applying the model on the text file\n",
    "  of the target_lang language.\n",
    "  :param model: the language model\n",
    "  :param target_lang: the target language\n",
    "  :param n: The n-gram of the model\n",
    "  :return: the perplexity value\n",
    "  '''\n",
    "  pp = 0\n",
    "  ########################################\n",
    "  file_path = f\"data/{target_lang}.json\"\n",
    "  with open(file_path, encoding=\"utf-8\") as f:\n",
    "        data = json.load(f)\n",
    "        text_dict = data[\"tweet_text\"]\n",
    "  text = []\n",
    "  for i,tweet in enumerate(text_dict.values()):\n",
    "      text += [\"<start>\"] * (n - 1)\n",
    "      text += list(tweet)\n",
    "      text += [\"<end>\"]\n",
    "  pp = perplexity(model,text,n)\n",
    "      \n",
    "  ########################################\n",
    "  return pp\n"
   ]
  },
  {
   "cell_type": "code",
   "execution_count": 9,
   "metadata": {
    "id": "AIdDFvinBVhx"
   },
   "outputs": [],
   "source": [
    "LM = build_lm(\"en\", 3, True)\n"
   ]
  },
  {
   "cell_type": "code",
   "execution_count": 10,
   "metadata": {
    "colab": {
     "base_uri": "https://localhost:8080/"
    },
    "id": "1WUouhkBuWJu",
    "outputId": "e05e45a3-867c-42f8-83e5-19cb91581503"
   },
   "outputs": [
    {
     "name": "stdout",
     "output_type": "stream",
     "text": [
      "Perplexity of the English 3-gram model on datasets:\n",
      "On English:  19.61\n",
      "On French:  40.74\n",
      "On Dutch:  42.75\n",
      "On Tagalog:  48.35\n"
     ]
    }
   ],
   "source": [
    "print(\"Perplexity of the English 3-gram model on datasets:\")\n",
    "print(f\"On English: {eval(LM, 'en', 3): .2f}\")\n",
    "print(f\"On French: {eval(LM, 'fr', 3): .2f}\")\n",
    "print(f\"On Dutch: {eval(LM, 'nl', 3): .2f}\")\n",
    "print(f\"On Tagalog: {eval(LM, 'tl', 3): .2f}\")\n"
   ]
  },
  {
   "cell_type": "code",
   "execution_count": 11,
   "metadata": {
    "colab": {
     "base_uri": "https://localhost:8080/"
    },
    "id": "5XP3ZIpLqB6r",
    "outputId": "2151dc30-6358-401d-9b56-102ef7049306"
   },
   "outputs": [
    {
     "name": "stdout",
     "output_type": "stream",
     "text": [
      "Perplexity on differnet n-gram models on English\n",
      "On 1-gram:  37.82\n",
      "On 2-gram:  20.48\n",
      "On 3-gram:  19.61\n",
      "On 4-gram:  34.40\n"
     ]
    }
   ],
   "source": [
    "lm1 = build_lm(\"en\", 1, True)\n",
    "lm2 = build_lm(\"en\", 2, True)\n",
    "lm3 = build_lm(\"en\", 3, True)\n",
    "lm4 = build_lm(\"en\", 4, True)\n",
    "\n",
    "print(\"Perplexity on differnet n-gram models on English\")\n",
    "print(f\"On 1-gram: {eval(lm1, 'en', 1): .2f}\")\n",
    "print(f\"On 2-gram: {eval(lm2, 'en', 2): .2f}\")\n",
    "print(f\"On 3-gram: {eval(lm3, 'en', 3): .2f}\")\n",
    "print(f\"On 4-gram: {eval(lm4, 'en', 4): .2f}\")"
   ]
  },
  {
   "cell_type": "markdown",
   "metadata": {
    "id": "9ZYVc7hB84LP"
   },
   "source": [
    "## Part 4\n",
    "Implement the *match* function that calls *eval* using a specific value of *n* for every possible language pair among the languages we have data for. You should call *eval* for every language pair four times, with each call assign a different value for *n* (1-4). Each language pair is composed of the source language and the target language. Before you make the call, you need to call the *lm* function to create the language model for the source language. Then you can call *eval* with the language model and the target language. The function should return a pandas DataFrame with the following four columns: *source_lang*, *target_lang*, *n*, *perplexity*. The values for the first two columns are the two-letter language codes. The value for *n* is the *n* you use for generating the specific perplexity values which you should store in the forth column."
   ]
  },
  {
   "cell_type": "code",
   "execution_count": 12,
   "metadata": {
    "id": "tMczigsHuadi"
   },
   "outputs": [],
   "source": [
    "languages = ['en', 'es', 'fr', 'in', 'it', 'nl', 'pt', 'tl']"
   ]
  },
  {
   "cell_type": "code",
   "execution_count": 18,
   "metadata": {
    "id": "16ew9aZWroPC"
   },
   "outputs": [],
   "source": [
    "import pandas as pd\n",
    "\n",
    "def match() -> pd.DataFrame:\n",
    "    \"\"\"\n",
    "    Build an n-gram LM for every source language, evaluate it on every target\n",
    "    language with n ∈ {1, 2, 3, 4}, and return a DataFrame of results.\n",
    "\n",
    "    Columns: source_lang | target_lang | n | perplexity\n",
    "    \"\"\"\n",
    "    rows = []  # collect dicts, build the DataFrame once at the end\n",
    "\n",
    "    for src_lang in languages:\n",
    "        for n in range(1, 5):\n",
    "            # build the LM once per (src_lang, n)\n",
    "            lm = build_lm(src_lang, n, smoothed=True)\n",
    "\n",
    "            for trg_lang in languages:\n",
    "                pp = eval(lm, trg_lang, n)  # your eval() returns perplexity\n",
    "                rows.append(\n",
    "                    {\n",
    "                        \"source\": src_lang,\n",
    "                        \"target\": trg_lang,\n",
    "                        \"n\": n,\n",
    "                        \"perplexity\": pp,\n",
    "                    }\n",
    "                )\n",
    "\n",
    "    # convert list-of-dicts to DataFrame in one shot\n",
    "    df = pd.DataFrame(rows, columns=[\"source\", \"target\", \"n\", \"perplexity\"])\n",
    "    return df\n"
   ]
  },
  {
   "cell_type": "markdown",
   "metadata": {
    "id": "pAQoR0dH9C3T"
   },
   "source": [
    "## Part 5\n",
    "Implement the *generate* function which takes a language code, *n*, the prompt (the starting text), the number of tokens to generate, and *r*, which is the random seed for any randomized action you plan to take in your implementation. The function should start generating tokens, one by one, using the language model of the given source language and *n*. The prompt should be used as a starting point for aligning on the probabilities to be used for generating the next token.\n",
    "\n",
    "Note - The generation of the next token should be from the LM's distribution with NO smoothing."
   ]
  },
  {
   "cell_type": "code",
   "execution_count": 51,
   "metadata": {
    "id": "CpCm24-RrpuA"
   },
   "outputs": [],
   "source": [
    "import random\n",
    "\n",
    "def generate(lang: str, n: int, prompt: str, number_of_tokens: int, r: int) -> str:\n",
    "  '''\n",
    "  Generate text in the given language using the given parameters.\n",
    "  :param lang: the language of the model\n",
    "  :param n: the n_gram value\n",
    "  :param prompt: the prompt to start the generation\n",
    "  :param number_of_tokens: the number of tokens to generate\n",
    "  :param r: the random seed to use\n",
    "  '''\n",
    "  text = prompt\n",
    "  random.seed(r)\n",
    "  ########################################\n",
    "  model = build_lm(lang, n)\n",
    "  for i in range(number_of_tokens):\n",
    "      prefix = text[-(n-1):] if n > 1 else \"\"\n",
    "      if prefix in model:\n",
    "          chars = list(model[prefix].keys())   # [\"c\", \"b\", \"d\"]\n",
    "          weights = list(model[prefix].values())     # [0.5, 0.25, 0.25]\n",
    "          next_char = random.choices(chars, weights=weights, k=1)[0]\n",
    "      else:\n",
    "          chars = preprocess_single_language(lang)\n",
    "          next_char = random.choices(chars, k=1)[0]\n",
    "      text += next_char\n",
    "      \n",
    "  ########################################\n",
    "  return text"
   ]
  },
  {
   "cell_type": "markdown",
   "metadata": {
    "id": "eUWX8Ugu9INH"
   },
   "source": [
    "## Part 6\n",
    "Play with your generate function, try to generate different texts in different language and various values of *n*. No need to submit anything of that."
   ]
  },
  {
   "cell_type": "code",
   "execution_count": 52,
   "metadata": {
    "colab": {
     "base_uri": "https://localhost:8080/"
    },
    "id": "0ykbMBzG9LWn",
    "outputId": "42cdcec1-9f22-47b3-963e-9d37b1fd3934"
   },
   "outputs": [
    {
     "name": "stdout",
     "output_type": "stream",
     "text": [
      "I amtpgLpC eLh\n",
      "I amoulpeginSh\n",
      "I amit: Lynmkm\n",
      "I am carrive Ob\n",
      "Soycalíodenye\n",
      "Soy orbe<end>🤘⛔✅😠\n",
      "Je suis:/opapropa\n",
      "Je suis tune<end>ジZ▶📓\n"
     ]
    }
   ],
   "source": [
    "print(generate('en', 1, \"I am\", 10, 5))\n",
    "print(generate('en', 2, \"I am\", 10, 5))\n",
    "print(generate('en', 3, \"I am\", 10, 5))\n",
    "print(generate('en', 4, \"I am \", 10, 5))\n",
    "print(generate('es', 2, \"Soy\", 10, 5))\n",
    "print(generate('es', 3, \"Soy\", 10, 5))\n",
    "print(generate('fr', 2, \"Je suis\", 10, 5))\n",
    "print(generate('fr', 3, \"Je suis\", 10, 5))"
   ]
  },
  {
   "cell_type": "markdown",
   "metadata": {
    "id": "q2jNlDISr9aL"
   },
   "source": [
    "# Testing"
   ]
  },
  {
   "cell_type": "markdown",
   "metadata": {
    "id": "uv48OCT_sIYW"
   },
   "source": [
    "Copy the content of the **tests.py** file from the repo and paste below. This will create the results.json file and download it to your machine."
   ]
  },
  {
   "cell_type": "code",
   "execution_count": 53,
   "metadata": {
    "colab": {
     "base_uri": "https://localhost:8080/",
     "height": 17
    },
    "id": "JZTlc2ieruqq",
    "outputId": "79be4e87-76a4-4e0f-bbf1-54efbbea3e90"
   },
   "outputs": [],
   "source": [
    "########################################\n",
    "# PLACE TESTS HERE #\n",
    "# Create tests\n",
    "# def test_preprocess():\n",
    "#     return {\n",
    "#         'vocab_length': len(preprocess()),\n",
    "#     }\n",
    "\n",
    "# def test_build_lm():\n",
    "#     return {\n",
    "#         'english_2_gram_length': len(build_lm('en', 2, True)),\n",
    "#         'english_3_gram_length': len(build_lm('en', 3, True)),\n",
    "#         'french_3_gram_length': len(build_lm('fr', 3, True)),\n",
    "#         'spanish_3_gram_length': len(build_lm('es', 3, True)),\n",
    "#     }\n",
    "\n",
    "# def test_eval():\n",
    "#     lm = build_lm('en', 3, True)\n",
    "#     return {\n",
    "#         'en_on_en': round(eval(lm, 'en', 3), 2),\n",
    "#         'en_on_fr': round(eval(lm, 'fr', 3), 2),\n",
    "#         'en_on_tl': round(eval(lm, 'tl', 3), 2),\n",
    "#         'en_on_nl': round(eval(lm, 'nl', 3), 2),\n",
    "#     }\n",
    "\n",
    "# def test_match():\n",
    "#     df = match()\n",
    "#     return {\n",
    "#         'df_shape': df.shape,\n",
    "#         'en_en_3': df[(df['source'] == 'en') & (df['target'] == 'en') & (df['n'] == 3)]['perplexity'].values[0],\n",
    "#         'en_tl_3': df[(df['source'] == 'en') & (df['target'] == 'tl') & (df['n'] == 3)]['perplexity'].values[0],\n",
    "#         'en_nl_3': df[(df['source'] == 'en') & (df['target'] == 'nl') & (df['n'] == 3)]['perplexity'].values[0],\n",
    "#     }\n",
    "\n",
    "def test_generate():\n",
    "    return {\n",
    "        'english_2_gram': generate('en', 2, \"I am\", 20, 5),\n",
    "        'english_3_gram': generate('en', 3, \"I am\", 20, 5),\n",
    "        'english_4_gram': generate('en', 4, \"I Love\", 20, 5),\n",
    "        'spanish_2_gram': generate('es', 2, \"Soy\", 20, 5),\n",
    "        'spanish_3_gram': generate('es', 3, \"Soy\", 20, 5),\n",
    "        'french_2_gram': generate('fr', 2, \"Je suis\", 20, 5),\n",
    "        'french_3_gram': generate('fr', 3, \"Je suis\", 20, 5),\n",
    "    }\n",
    "\n",
    "TESTS = [test_preprocess, test_build_lm, test_eval, test_match, test_generate]\n",
    "\n",
    "# Run tests and save results\n",
    "res = {}\n",
    "for test in TESTS:\n",
    "    try:\n",
    "        cur_res = test()\n",
    "        res.update({test.__name__: cur_res})\n",
    "    except Exception as e:\n",
    "        res.update({test.__name__: repr(e)})\n",
    "\n",
    "with open('results.json', 'w') as f:\n",
    "    json.dump(res, f, indent=2)\n",
    "\n",
    "# Download the results.json file\n",
    "# files.download('results.json')\n",
    "########################################"
   ]
  },
  {
   "cell_type": "code",
   "execution_count": 54,
   "metadata": {
    "colab": {
     "base_uri": "https://localhost:8080/"
    },
    "id": "0dEpidyrqXTr",
    "outputId": "fcbec67c-e538-4f8f-cb5c-8a15e0dce0f9"
   },
   "outputs": [
    {
     "name": "stdout",
     "output_type": "stream",
     "text": [
      "total 104\n",
      "-rw-r--r--@  1 Nirsho  staff  25326 Apr 26 17:23 Assignment_1_Nir_&_Omer.ipynb\n",
      "-rw-r--r--@  1 Nirsho  staff   1259 Apr 10 19:26 README.md\n",
      "-rw-r--r--@  1 Nirsho  staff   4267 Apr 10 19:25 auto_grader.py\n",
      "drwxr-xr-x@ 18 Nirsho  staff    576 Apr 10 19:25 \u001b[34mdata\u001b[m\u001b[m\n",
      "-rw-r--r--@  1 Nirsho  staff      5 Apr 10 19:25 notebook_link.txt\n",
      "-rw-r--r--@  1 Nirsho  staff   1120 Apr 26 17:30 results.json\n",
      "-rw-r--r--@  1 Nirsho  staff   2073 Apr 10 19:25 tests.py\n"
     ]
    }
   ],
   "source": [
    "# Show the local files, results.json should be there now and\n",
    "# also downloaded to your local machine\n",
    "!ls -l"
   ]
  },
  {
   "cell_type": "code",
   "execution_count": null,
   "metadata": {
    "id": "UA8l8Vg5hPtr"
   },
   "outputs": [],
   "source": []
  },
  {
   "cell_type": "code",
   "execution_count": null,
   "metadata": {},
   "outputs": [],
   "source": []
  }
 ],
 "metadata": {
  "colab": {
   "provenance": []
  },
  "kernelspec": {
   "display_name": "Python 3 (ipykernel)",
   "language": "python",
   "name": "python3"
  },
  "language_info": {
   "codemirror_mode": {
    "name": "ipython",
    "version": 3
   },
   "file_extension": ".py",
   "mimetype": "text/x-python",
   "name": "python",
   "nbconvert_exporter": "python",
   "pygments_lexer": "ipython3",
   "version": "3.11.8"
  }
 },
 "nbformat": 4,
 "nbformat_minor": 4
}
